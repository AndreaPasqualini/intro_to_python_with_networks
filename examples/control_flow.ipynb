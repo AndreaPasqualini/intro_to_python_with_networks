{
 "cells": [
  {
   "cell_type": "markdown",
   "metadata": {},
   "source": [
    "# Control Flow: Examples"
   ]
  },
  {
   "cell_type": "markdown",
   "metadata": {},
   "source": [
    "Mastering control flow techniques is fundamental in every programming language.\n",
    "It is the only way we can control how our code is executed.\n",
    "\n",
    "To simplify exposition, we only consider examples that require no module to be imported."
   ]
  },
  {
   "cell_type": "markdown",
   "metadata": {},
   "source": [
    "## Basic Examples"
   ]
  },
  {
   "cell_type": "markdown",
   "metadata": {},
   "source": [
    "### The `if` statement"
   ]
  },
  {
   "cell_type": "markdown",
   "metadata": {},
   "source": [
    "The `if` statement executes some code conditionally on something being `True`.\n",
    "The following example takes a number and checks whether the remainder of the division `number`÷1 is zero.\n",
    "If this is the case, then the number is an integer; otherwise the number is not an integer (can be either rational or irrational).\n",
    "\n",
    "<sup>Checking whether a number is rational or irrational with a computer <a href=\"https://stackoverflow.com/questions/4266741\">turns out to be troublesome...</a></sup>"
   ]
  },
  {
   "cell_type": "code",
   "execution_count": 1,
   "metadata": {},
   "outputs": [
    {
     "name": "stdout",
     "output_type": "stream",
     "text": [
      "The number is an integer.\n"
     ]
    }
   ],
   "source": [
    "number = 2\n",
    "\n",
    "if number % 1 == 0:\n",
    "    print('The number is an integer.')\n",
    "else:\n",
    "    print('The number is not an integer (a real?).')"
   ]
  },
  {
   "cell_type": "markdown",
   "metadata": {},
   "source": [
    "We can also define various cases using the `if`...`elif`...`else` paradigm."
   ]
  },
  {
   "cell_type": "code",
   "execution_count": 2,
   "metadata": {},
   "outputs": [
    {
     "name": "stdout",
     "output_type": "stream",
     "text": [
      "The number is a multiple of neither 2, 3 nor 5.\n"
     ]
    }
   ],
   "source": [
    "number = 17\n",
    "\n",
    "if number % 2 == 0:\n",
    "    print('The number is a multiple of 2.')\n",
    "elif number % 3 == 0:\n",
    "    print('The number is a multiple of 3, but not of 2.')\n",
    "elif number % 5 == 0:\n",
    "    print('The number is a multiple of 5, but not of 2 or of 3.')\n",
    "else:\n",
    "    print('The number is a multiple of neither 2, 3 nor 5.')"
   ]
  },
  {
   "cell_type": "markdown",
   "metadata": {},
   "source": [
    "### The `for` loop"
   ]
  },
  {
   "cell_type": "markdown",
   "metadata": {},
   "source": [
    "A `for` loop repeats some code a predefined number of times.\n",
    "In the example that follows, we are going to create an empty list, then add the first 10 integers to it."
   ]
  },
  {
   "cell_type": "code",
   "execution_count": 3,
   "metadata": {},
   "outputs": [
    {
     "name": "stdout",
     "output_type": "stream",
     "text": [
      "[1]\n",
      "[1, 2]\n",
      "[1, 2, 3]\n",
      "[1, 2, 3, 4]\n",
      "[1, 2, 3, 4, 5]\n",
      "[1, 2, 3, 4, 5, 6]\n",
      "[1, 2, 3, 4, 5, 6, 7]\n",
      "[1, 2, 3, 4, 5, 6, 7, 8]\n",
      "[1, 2, 3, 4, 5, 6, 7, 8, 9]\n",
      "[1, 2, 3, 4, 5, 6, 7, 8, 9, 10]\n"
     ]
    }
   ],
   "source": [
    "a = []\n",
    "for i in range(10):\n",
    "    a.append(i+1)\n",
    "    print(a)"
   ]
  },
  {
   "cell_type": "markdown",
   "metadata": {},
   "source": [
    "### The `while` loop"
   ]
  },
  {
   "cell_type": "markdown",
   "metadata": {},
   "source": [
    "The `while` loop repeats some code provided some condition occurs.\n",
    "This is useful if we want to repeat the code, but we do not know how many times the repetition is required in order to achieve a result.\n",
    "In the example that follows, we reconstruct the Fibonacci sequence up until its `n`th element.\n",
    "We use the `while` loop to check the length of the sequence we build.\n",
    "As soon as we obtain the required length, we stop the code."
   ]
  },
  {
   "cell_type": "code",
   "execution_count": 4,
   "metadata": {},
   "outputs": [
    {
     "name": "stdout",
     "output_type": "stream",
     "text": [
      "[0, 1, 1, 2, 3, 5, 8, 13, 21, 34, 55, 89, 144, 233, 377]\n"
     ]
    }
   ],
   "source": [
    "max_length = 15\n",
    "fibonacci = [0, 1]\n",
    "\n",
    "while len(fibonacci) < max_length:\n",
    "    next_element = fibonacci[-2] + fibonacci[-1]\n",
    "    fibonacci.append(next_element)\n",
    "\n",
    "print(fibonacci)"
   ]
  },
  {
   "cell_type": "markdown",
   "metadata": {},
   "source": [
    "### The `break` statement"
   ]
  },
  {
   "cell_type": "markdown",
   "metadata": {},
   "source": [
    "The `break` statement allows the code to interrupt a loop (typically, a `for` or a `while` loop).\n",
    "We normally issue this statement after checking some condition.\n",
    "A trivial example follows.\n",
    "We start a `while` loop with a constant condition `True`.\n",
    "This makes the `while` loop run indefinitely, which is not nice for your computer.\n",
    "However, we can check for the number of times the loop repeats.\n",
    "If such number is \"too high\" (according to an arbitrary criterion), then we can safely assume something went wrong and we stop the loop."
   ]
  },
  {
   "cell_type": "code",
   "execution_count": 5,
   "metadata": {},
   "outputs": [
    {
     "name": "stdout",
     "output_type": "stream",
     "text": [
      "Iteration \"max_iter\" 1000000 reached. Stopping the loop.\n"
     ]
    }
   ],
   "source": [
    "iteration_no = 0\n",
    "max_iter = 1000000\n",
    "\n",
    "while True:\n",
    "    iteration_no += 1\n",
    "    if iteration_no > max_iter:\n",
    "        print('Iteration \"max_iter\" {} reached. Stopping the loop.'.format(max_iter))\n",
    "        break"
   ]
  },
  {
   "cell_type": "markdown",
   "metadata": {},
   "source": [
    "### The `continue` statement"
   ]
  },
  {
   "cell_type": "markdown",
   "metadata": {},
   "source": [
    "The `continue` statement instructs a `for` or `while` loop to skip the remaining code block and proceed to the next iteration (if any).\n",
    "This is useful if, in a loop, we encounter some special case and we do not require the rest of the code to run in that case.\n",
    "In the example that follows, we loop on the first 10 integers and we check whether they are multiple of 3.\n",
    "If so, then we display some text.\n",
    "Otherwise, we display another text.\n",
    "Note that, every time we hit a multiple of three, whatever is in the loop after the `continue` statement is not executed."
   ]
  },
  {
   "cell_type": "code",
   "execution_count": 6,
   "metadata": {
    "scrolled": true
   },
   "outputs": [
    {
     "name": "stdout",
     "output_type": "stream",
     "text": [
      "Keeping on searching...\n",
      "Keeping on searching...\n",
      "Found a multiple of three: 3.\n",
      "Keeping on searching...\n",
      "Keeping on searching...\n",
      "Found a multiple of three: 6.\n",
      "Keeping on searching...\n",
      "Keeping on searching...\n",
      "Found a multiple of three: 9.\n"
     ]
    }
   ],
   "source": [
    "for i in range(1, 10):\n",
    "    if i % 3 == 0:\n",
    "        print('Found a multiple of three: {}.'.format(i))\n",
    "        continue\n",
    "    print('Keeping on searching...')"
   ]
  },
  {
   "cell_type": "markdown",
   "metadata": {},
   "source": [
    "## Mastering Control Flow"
   ]
  },
  {
   "cell_type": "markdown",
   "metadata": {},
   "source": [
    "The following examples take control flow statements and combines them.\n",
    "Many algorithms in Economics (and not only) take advantage of this."
   ]
  },
  {
   "cell_type": "markdown",
   "metadata": {},
   "source": [
    "### Compute Euler's constant $e$\n",
    "\n",
    "To this end, consider that we can define $e$ as\n",
    "\n",
    "$$\n",
    "e := \\lim_{n \\to \\infty} {\\left( 1 + \\frac{1}{n} \\right)}^{n}\n",
    "$$\n",
    "\n",
    "What we do below is to compute the argument of the limit for a given value `n`.\n",
    "Then, we compute the same value for `n+1`.\n",
    "We check whether the improvement to the approximation of Euler's constant is \"big enough\", in the sense that it is above a certain \"tolerance\" threshold.\n",
    "If the improvement is big enough, then we move on to `n+2`.\n",
    "Otherwise we interrupt the algorithm and check the result."
   ]
  },
  {
   "cell_type": "code",
   "execution_count": 7,
   "metadata": {},
   "outputs": [
    {
     "name": "stdout",
     "output_type": "stream",
     "text": [
      "This code ran 94760 times.\n",
      "The approximated Euler's constant is 2.7182674855879516.\n"
     ]
    }
   ],
   "source": [
    "# Starting conditions, just to get the loop started\n",
    "improvement = 1.0\n",
    "tolerance = 1e-10  # 10^(-10)\n",
    "n = 1\n",
    "step_increase = 1\n",
    "results = [1.0]\n",
    "iteration_no = 0\n",
    "\n",
    "# Here is the iterative algorithm to obtain e\n",
    "while improvement > tolerance:           # as long as we improve significantly\n",
    "    tentative = ( 1 + (1 / n) ) ** n     # compute a tentative result\n",
    "    results.append( tentative )          # store result in a list\n",
    "    improvement = abs( results[-1] - results[-2] )  # check the improvement\n",
    "    n += step_increase                   # increase this value\n",
    "    iteration_no += 1                    # increase the iteration counter\n",
    "    \n",
    "# Print results to obtain information about the algorithm\n",
    "print(\"This code ran \" + str(iteration_no) + \" times.\")\n",
    "print(\"The approximated Euler's constant is \" + str(results[-1]) + \".\")"
   ]
  },
  {
   "cell_type": "markdown",
   "metadata": {},
   "source": [
    "Try running the code above changing `step_increase` to another integer value, such as `10`.\n",
    "The number of times the code will run will change.\n",
    "This is why we need a `while` loop: we cannot know a priori how many iterations we need."
   ]
  },
  {
   "cell_type": "markdown",
   "metadata": {},
   "source": [
    "### List the first 10 prime numbers\n",
    "\n",
    "In this example we list the first 10 prime numbers, including 0 and 1.\n",
    "We proceed as follows.\n",
    "We consider a candidate, starting from the number 2.\n",
    "For this candidate, we check whether all numbers between 2 and itself is a divisor.\n",
    "As soon as we find a divisor of the candidate, we stop searching for divisors, we discard the current candidate and we move to the next one.\n",
    "If we find no divisors for a candidate, then we confirm we found a prime number and we add it to the list of results.\n",
    "The latter case is captured with an `else` statement to the `for` loop.\n",
    "This specifies what we have to do in case we did not break the `for` loop.\n",
    "This use of `else` also works within a `while` loop.\n",
    "\n",
    "<sup>Note that the use of <code>break</code> here allows for performance improvements: we do not need to find <i>all</i> divisors for a candidate number, we just need to find one in order to reject the candidate as a prime number.</sup>"
   ]
  },
  {
   "cell_type": "code",
   "execution_count": 8,
   "metadata": {},
   "outputs": [
    {
     "name": "stdout",
     "output_type": "stream",
     "text": [
      "Prime numbers: [0, 1, 2, 3, 5, 7, 11, 13, 17, 19]\n",
      "Non-prime numbers: [4, 6, 8, 9, 10, 12, 14, 15, 16, 18]\n"
     ]
    }
   ],
   "source": [
    "primes = [0, 1]\n",
    "not_primes = []\n",
    "candidate = primes[-1] + 1\n",
    "\n",
    "while len(primes) < 10:\n",
    "    for divisor in range(2, candidate):\n",
    "        if candidate % divisor == 0:\n",
    "            not_primes.append(candidate)\n",
    "            break  # exits the 'for' loop and moves on to the next value of 'divisor'\n",
    "    else:          # specifies what happens if we never break the 'for' loop\n",
    "        primes.append(candidate)\n",
    "    candidate += 1  # go on with the next integer\n",
    "\n",
    "print('Prime numbers: ' + str(primes))\n",
    "print('Non-prime numbers: ' + str(not_primes))"
   ]
  }
 ],
 "metadata": {
  "kernelspec": {
   "display_name": "Python 3",
   "language": "python",
   "name": "python3"
  },
  "language_info": {
   "codemirror_mode": {
    "name": "ipython",
    "version": 3
   },
   "file_extension": ".py",
   "mimetype": "text/x-python",
   "name": "python",
   "nbconvert_exporter": "python",
   "pygments_lexer": "ipython3",
   "version": "3.7.6"
  }
 },
 "nbformat": 4,
 "nbformat_minor": 2
}
